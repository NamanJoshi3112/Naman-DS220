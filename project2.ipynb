{
 "cells": [
  {
   "cell_type": "markdown",
   "metadata": {},
   "source": [
    "William Bolder, Jongin Choi, Gianna Delorenzo, Naman Joshi, Ryan Kaye, and Darren Zhu  \n",
    "DS 220   \n",
    "Professor Fonkam  \n",
    "December 7, 2023\n",
    "# Rental Analysis of US Cities\n",
    "## Introduction\n",
    "This project aims to...  \n",
    "First, we will import pandas and load the rental data"
   ]
  },
  {
   "cell_type": "code",
   "execution_count": 2,
   "metadata": {},
   "outputs": [],
   "source": [
    "import pandas as pd\n",
    "\n",
    "data = pd.read_csv('City_zori_uc_sfrcondomfr_sm_month.csv')"
   ]
  },
  {
   "cell_type": "markdown",
   "metadata": {},
   "source": [
    "### Question 1: Which state has the highest average rent?  \n",
    "Question 1 wants to know the state with the highest average rent and also the rent value for that state.  \n",
    "1. First, identify the most recent date (`columns[-1]`) from the data set, which is October 2023.  \n",
    "2. Second, initialize a dictionary to hold the total rent values for each state.  \n",
    "3. Then, since we want to perform operations on each row of the data, we will use `iterrows()` in the for loop to iterate over each data frame row, which will yield an index and row data.  \n",
    "4. The for loop will get the state and rent. If the rent is already in the dictionary `rent_sums`, it will add the rent value, else, it will initialize a new value."
   ]
  },
  {
   "cell_type": "code",
   "execution_count": 19,
   "metadata": {},
   "outputs": [],
   "source": [
    "most_recent = data.columns[-1]\n",
    "\n",
    "# initialize dictionary\n",
    "rent_sums = {}\n",
    "\n",
    "# for each row in the data...\n",
    "for index, row in data.iterrows():\n",
    "    # get state and most recent rent\n",
    "    state = row['State']\n",
    "    rent = row[most_recent]\n",
    "\n",
    "    # if the rent is already in dictionary add\n",
    "    if state in rent_sums:\n",
    "        rent_sums[state] += rent\n",
    "        \n",
    "    # else initialize\n",
    "    else:\n",
    "        rent_sums[state] = rent"
   ]
  },
  {
   "cell_type": "markdown",
   "metadata": {},
   "source": [
    "5. Once the rent sum of each state is calculated, calculate the average rent for each state.\n",
    "6. First, count the number of unique cities for each state with `value_counts()` and then initialize a dictionary to hold the average state rents.  \n",
    "7. Then, in a for loop, for each state in the rent_sums dictionary, calculate the total rent, get the count of unique cities, calculate the average rent, and store the average rent in the `avg_state_rent` dictionary.\n",
    "8. For the final step, the state (max key) and the corresponding rent value, then print out the results.\n"
   ]
  },
  {
   "cell_type": "code",
   "execution_count": 17,
   "metadata": {},
   "outputs": [
    {
     "name": "stdout",
     "output_type": "stream",
     "text": [
      "The state with the highest average rent NY with an average rent of $6153.50\n"
     ]
    }
   ],
   "source": [
    "# count the number of unique \"cities\" for each state with value_counts()\n",
    "state_rent_count = data['State'].value_counts()\n",
    "\n",
    "# initialize dictionary\n",
    "avg_state_rent = {}\n",
    "\n",
    "# for each state in rent_sums...\n",
    "for state in rent_sums:\n",
    "    total_rent = rent_sums[state] # total rent for state\n",
    "    city_count = state_rent_count[state] # get the count (number of cities) for state\n",
    "    avg_rent = total_rent / city_count # calculate the average rent\n",
    "    avg_state_rent[state] = avg_rent # store info in dictionary\n",
    "\n",
    "# highest rent state and the average rent value\n",
    "highest_rent_state = max(avg_state_rent, key = avg_state_rent.get)\n",
    "highest_avg_rent = max(avg_state_rent.values())\n",
    "\n",
    "print(f\"The state with the highest average rent {highest_rent_state} with an average rent of ${highest_avg_rent:.2f}\")"
   ]
  },
  {
   "cell_type": "markdown",
   "metadata": {},
   "source": [
    "#### Question 1 Results\n",
    "The state with the highest average rent NY with an average rent of $6153.50"
   ]
  },
  {
   "cell_type": "markdown",
   "metadata": {},
   "source": [
    "### Question 2: "
   ]
  },
  {
   "cell_type": "code",
   "execution_count": null,
   "metadata": {},
   "outputs": [],
   "source": []
  }
 ],
 "metadata": {
  "kernelspec": {
   "display_name": "Python 3",
   "language": "python",
   "name": "python3"
  },
  "language_info": {
   "codemirror_mode": {
    "name": "ipython",
    "version": 3
   },
   "file_extension": ".py",
   "mimetype": "text/x-python",
   "name": "python",
   "nbconvert_exporter": "python",
   "pygments_lexer": "ipython3",
   "version": "3.10.13"
  }
 },
 "nbformat": 4,
 "nbformat_minor": 5
}
