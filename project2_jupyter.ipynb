{
 "cells": [],
 "metadata": {},
 "nbformat": 4,
 "nbformat_minor": 5
}

import pandas as pd

data = '/mnt/data/City_zori_uc_sfrcondomfr_sm_month.csv'
read_data = pd.read_csv(data)


read_data.describe()


